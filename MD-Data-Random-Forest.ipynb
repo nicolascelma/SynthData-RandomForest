{
 "cells": [
  {
   "cell_type": "markdown",
   "metadata": {},
   "source": [
    "### Introduction\n",
    "\n",
    "This notebook addresses the problem of heart disease prediction. The dataset used for this analysis was generated synthetically by the author. To enhance the dataset's size and complexity, it has been expanded to 500 data points. The Random Forest Classifier is employed to build a prediction model for heart disease. The dataset is split into training and test sets, with a 50/50 ratio, resulting in 250 samples for training and 250 samples for testing. The prediction model's accuracy is assessed by running it twice, providing insights into its performance."
   ]
  },
  {
   "cell_type": "code",
   "execution_count": 1,
   "metadata": {},
   "outputs": [],
   "source": [
    "import numpy as np\n",
    "import scipy.stats as ss\n",
    "import pandas as pd\n",
    "import matplotlib.pyplot as plt\n",
    "from sklearn.model_selection import train_test_split, cross_val_score\n",
    "from sklearn.ensemble import RandomForestClassifier\n",
    "from sklearn.metrics import accuracy_score, confusion_matrix\n",
    "import seaborn as sns\n",
    "\n",
    "# Assigns different outcomes to Body Mass Index features, classified by range criteria\n",
    "\n",
    "def calc_bmi_p(weight, height):\n",
    "            outcomes = [0,1]\n",
    "            probs = [(0.6, 0.4), (0.85, 0.15),(0.9,0.1)]\n",
    "            chol_prob, circ_prob = (0, 0)\n",
    "            bmi = weight/((height/100)**2)\n",
    "            if bmi>28:\n",
    "                chol_prob, circ_prob = np.random.choice(outcomes, p = probs[0], size = 2)\n",
    "            elif bmi>32:\n",
    "                chol_prob, circ_prob = np.random.choice(outcomes, p = probs[1], size = 2)\n",
    "            elif bmi > 38:\n",
    "                chol_prob, circ_prob = np.random.choice(outcomes, p = probs[2], size = 2)\n",
    "            return chol_prob, circ_prob\n"
   ]
  },
  {
   "cell_type": "markdown",
   "metadata": {},
   "source": [
    "### Synthetic data generator\n",
    "Generates synthetic data for `n` patients. `X_col` refers to the number of used features, 6 being used in this example. It returns a `np.array` object of `n` x `X_col` dimensions, containing both the data points for the covariates (High Cholesterol, Poor Circulation, Weight, Height, Age) and the outcomes (Heart Disease). The `sd` (standard deviation) parameter in this example is used to add variation to the weight and height variables.\n",
    "\n",
    "- **High Cholesterol**: Binary variable (0 or 1).\n",
    "- **Poor Circulation**: Binary variable (0 or 1).\n",
    "- **Weight**: Weight of the individual in kilograms.\n",
    "- **Height**: Height of the individual in centimeters.\n",
    "- **Age**: Age of the individual.\n",
    "- **Heart Disease**: Binary target variable (0 or 1) indicating the presence or absence of heart disease.\n",
    "\n",
    "The data generation process is as follows:\n",
    "\n",
    "- We calculate the probabilities of high cholesterol and poor circulation based on the BMI (Body Mass Index) of each individual.\n",
    "- We assign probabilities to different BMI ranges, and these probabilities affect the outcomes of high cholesterol and poor circulation.\n",
    "- Based on the outcomes of high cholesterol and poor circulation, we determine the probability of heart disease.\n",
    "- We generate random values for these features while considering age, and based on the probabilities, we assign values to high cholesterol, poor circulation, and heart disease.\n",
    "\n",
    "Afterwards, we create the \"md_db.csv\" file, containing the synthetically generated `df` data frame of 500 data points."
   ]
  },
  {
   "cell_type": "code",
   "execution_count": 2,
   "metadata": {},
   "outputs": [
    {
     "data": {
      "text/html": [
       "<div>\n",
       "<style scoped>\n",
       "    .dataframe tbody tr th:only-of-type {\n",
       "        vertical-align: middle;\n",
       "    }\n",
       "\n",
       "    .dataframe tbody tr th {\n",
       "        vertical-align: top;\n",
       "    }\n",
       "\n",
       "    .dataframe thead th {\n",
       "        text-align: right;\n",
       "    }\n",
       "</style>\n",
       "<table border=\"1\" class=\"dataframe\">\n",
       "  <thead>\n",
       "    <tr style=\"text-align: right;\">\n",
       "      <th></th>\n",
       "      <th>High Cholesterol</th>\n",
       "      <th>Poor Circulation</th>\n",
       "      <th>Weight</th>\n",
       "      <th>Height</th>\n",
       "      <th>Age</th>\n",
       "      <th>Heart Disease</th>\n",
       "    </tr>\n",
       "  </thead>\n",
       "  <tbody>\n",
       "    <tr>\n",
       "      <th>0</th>\n",
       "      <td>1.0</td>\n",
       "      <td>0.0</td>\n",
       "      <td>137.0</td>\n",
       "      <td>161.0</td>\n",
       "      <td>44.0</td>\n",
       "      <td>1.0</td>\n",
       "    </tr>\n",
       "    <tr>\n",
       "      <th>1</th>\n",
       "      <td>0.0</td>\n",
       "      <td>1.0</td>\n",
       "      <td>86.0</td>\n",
       "      <td>167.0</td>\n",
       "      <td>20.0</td>\n",
       "      <td>0.0</td>\n",
       "    </tr>\n",
       "    <tr>\n",
       "      <th>2</th>\n",
       "      <td>0.0</td>\n",
       "      <td>0.0</td>\n",
       "      <td>52.0</td>\n",
       "      <td>156.0</td>\n",
       "      <td>27.0</td>\n",
       "      <td>0.0</td>\n",
       "    </tr>\n",
       "    <tr>\n",
       "      <th>3</th>\n",
       "      <td>0.0</td>\n",
       "      <td>0.0</td>\n",
       "      <td>136.0</td>\n",
       "      <td>164.0</td>\n",
       "      <td>24.0</td>\n",
       "      <td>0.0</td>\n",
       "    </tr>\n",
       "    <tr>\n",
       "      <th>4</th>\n",
       "      <td>0.0</td>\n",
       "      <td>0.0</td>\n",
       "      <td>78.0</td>\n",
       "      <td>167.0</td>\n",
       "      <td>46.0</td>\n",
       "      <td>0.0</td>\n",
       "    </tr>\n",
       "  </tbody>\n",
       "</table>\n",
       "</div>"
      ],
      "text/plain": [
       "   High Cholesterol  Poor Circulation  Weight  Height   Age  Heart Disease\n",
       "0               1.0               0.0   137.0   161.0  44.0            1.0\n",
       "1               0.0               1.0    86.0   167.0  20.0            0.0\n",
       "2               0.0               0.0    52.0   156.0  27.0            0.0\n",
       "3               0.0               0.0   136.0   164.0  24.0            0.0\n",
       "4               0.0               0.0    78.0   167.0  46.0            0.0"
      ]
     },
     "execution_count": 2,
     "metadata": {},
     "output_type": "execute_result"
    }
   ],
   "source": [
    "def synth_gen(n, X_col, sd):\n",
    "    \n",
    "    X = np.zeros((n, X_col-1))\n",
    "    Y = []\n",
    "    for i in range(n):\n",
    "        age, weight, height = (np.random.randint(20, 60), \n",
    "                               np.random.randint(50,140) + int(ss.norm.rvs(0, sd, 1)), \n",
    "                               np.random.randint(155,170) + int(ss.norm.rvs(0, sd, 1)))\n",
    "        y = 0\n",
    "        chol_prob, circ_prob = (calc_bmi_p(weight, height))\n",
    "        if chol_prob + circ_prob == 2 and age>50:\n",
    "            y = np.random.choice([0,1], p = [0.1 , 0.9], size = 1)[0]\n",
    "        if chol_prob + circ_prob == 2 and age<50:\n",
    "            y = np.random.choice([0,1], p = [0.3 , 0.7], size = 1)[0]\n",
    "        elif chol_prob + circ_prob == 1:\n",
    "            y = np.random.choice([0,1], p = [0.4 , 0.6], size = 1)[0]\n",
    "        elif chol_prob + circ_prob == 0:\n",
    "            y = np.random.choice([0,1], p = [0.7 , 0.3], size = 1)[0]\n",
    "        x=(chol_prob, circ_prob, weight, height, age)\n",
    "        Y.append(y)\n",
    "\n",
    "        for j in range(X_col-1):\n",
    "            X[i,j]= x[j]\n",
    "    np.array(Y).reshape(-1,1)\n",
    "    return np.column_stack((X,Y))\n",
    "\n",
    "# Generate synthetic data and save it to a CSV file\n",
    "\n",
    "df = pd.DataFrame(data=synth_gen(500, 6, 1), columns=[\"High Cholesterol\", \"Poor Circulation\", \"Weight\", \"Height\", \"Age\", \"Heart Disease\"])\n",
    "df.to_csv(\"md_db.csv\")\n",
    "df.head()"
   ]
  },
  {
   "cell_type": "markdown",
   "metadata": {},
   "source": [
    "### Data loading and splitting\n",
    "\n",
    "We load the synthetic data from the CSV file into a Pandas DataFrame. This DataFrame will be used for model training and evaluation. We then split the data into training and testing sets. In this example, we use a 50-50 train-test split ratio. The training data will be used to train our Random Forest Classifier, while the testing data will be used to evaluate the model's performance."
   ]
  },
  {
   "cell_type": "markdown",
   "metadata": {},
   "source": []
  },
  {
   "cell_type": "code",
   "execution_count": 3,
   "metadata": {},
   "outputs": [],
   "source": [
    "df = pd.read_csv(\"md_db.csv\")\n",
    "X = df.drop(columns=[\"Heart Disease\", \"Unnamed: 0\"])\n",
    "y = df[\"Heart Disease\"]\n",
    "\n",
    "X_train, X_test, y_train, y_test = train_test_split(X, y, test_size=0.5, random_state=42)"
   ]
  },
  {
   "cell_type": "markdown",
   "metadata": {},
   "source": [
    "### Model initialization, training and cross-validation\n",
    "\n",
    "We initialize the Random Forest Classifier. This is the machine learning model that we'll use for heart disease prediction. We train the Random Forest model on the training data using the `fit` method. Then, we evaluate the model's accuracy, cross-validation scores, and we plot a confusion matrix for the test set through a heatmap."
   ]
  },
  {
   "cell_type": "code",
   "execution_count": 4,
   "metadata": {},
   "outputs": [
    {
     "name": "stdout",
     "output_type": "stream",
     "text": [
      "Random Forest Accuracy: 0.576\n",
      "Cross-Validation Scores:\n",
      "Fold 1: 0.6200\n",
      "Fold 2: 0.5000\n",
      "Fold 3: 0.6200\n",
      "Fold 4: 0.6400\n",
      "Fold 5: 0.6400\n",
      "Mean CV Score: 0.6040\n",
      "Std CV Score: 0.0528\n",
      "Test Set Accuracy: 0.5760\n"
     ]
    },
    {
     "data": {
      "image/png": "[encoded data removed]",
      "text/plain": [
       "<Figure size 800x600 with 2 Axes>"
      ]
     },
     "metadata": {},
     "output_type": "display_data"
    }
   ],
   "source": [
    "# Initializes the Random Forest Classifier, trains the model\n",
    "# and makes prediction on the training data\n",
    "\n",
    "rf_classifier = RandomForestClassifier(random_state=42)\n",
    "rf_classifier.fit(X_train, y_train)\n",
    "y_pred = rf_classifier.predict(X_test)\n",
    "\n",
    "# Calculates accuracy\n",
    "accuracy = accuracy_score(y_test, y_pred)\n",
    "print(f\"Random Forest Accuracy: {accuracy}\")\n",
    "\n",
    "# Performs cross-validation on the training set\n",
    "cv_scores = cross_val_score(rf_classifier, X_train, y_train, cv=5)\n",
    "print(\"Cross-Validation Scores:\")\n",
    "for i, score in enumerate(cv_scores, 1):\n",
    "    print(f\"Fold {i}: {score:.4f}\")\n",
    "print(f\"Mean CV Score: {np.mean(cv_scores):.4f}\")\n",
    "print(f\"Std CV Score: {np.std(cv_scores):.4f}\")\n",
    "\n",
    "# Assuming 'true_labels' contains the true values of \"Heart Disease\" for the new data\n",
    "true_labels = y_test\n",
    "\n",
    "# Calculates accuracy for the test set\n",
    "test_accuracy = accuracy_score(true_labels, y_pred)\n",
    "print(f\"Test Set Accuracy: {test_accuracy:.4f}\")\n",
    "\n",
    "# Creates and plots confusion matrix for the test set\n",
    "conf_matrix = confusion_matrix(true_labels, y_pred)\n",
    "plt.figure(figsize=(8, 6))\n",
    "sns.heatmap(conf_matrix, annot=True, fmt=\"d\", cmap=\"Blues\")\n",
    "plt.xlabel(\"Predicted\")\n",
    "plt.ylabel(\"True\")\n",
    "plt.title(\"Confusion Matrix (Test Set)\")\n",
    "plt.show()"
   ]
  },
  {
   "cell_type": "markdown",
   "metadata": {},
   "source": [
    "### Hyperparameter optimization\n",
    "\n",
    "This code performs a grid search over a range of hyperparameter values and identifies the best combination."
   ]
  },
  {
   "cell_type": "code",
   "execution_count": 5,
   "metadata": {},
   "outputs": [
    {
     "name": "stdout",
     "output_type": "stream",
     "text": [
      "Best Hyperparameters:\n",
      "{'max_depth': None, 'max_features': None, 'min_samples_leaf': 1, 'min_samples_split': 10, 'n_estimators': 200}\n",
      "Test Set Accuracy (Best Model): 0.6040\n"
     ]
    }
   ],
   "source": [
    "from sklearn.model_selection import GridSearchCV\n",
    "\n",
    "# Defines the hyperparameter grid to search over\n",
    "param_grid = {\n",
    "    'n_estimators': [100, 200, 300],\n",
    "    'max_depth': [None, 10, 20, 30],\n",
    "    'min_samples_split': [2, 5, 10],\n",
    "    'min_samples_leaf': [1, 2, 4],\n",
    "    'max_features': ['sqrt', 'log2', None]\n",
    "}\n",
    "\n",
    "# Initializes the Random Forest Classifier\n",
    "rf_classifier = RandomForestClassifier(random_state=42)\n",
    "\n",
    "# Creates a grid search with cross-validation and fits the\n",
    "# grid search to the training data\n",
    "grid_search = GridSearchCV(estimator=rf_classifier, param_grid=param_grid, cv=5, scoring='accuracy', n_jobs=-1)\n",
    "grid_search.fit(X_train, y_train)\n",
    "\n",
    "# Prints the best hyperparameters found\n",
    "print(\"Best Hyperparameters:\")\n",
    "print(grid_search.best_params_)\n",
    "\n",
    "# Gets the best model\n",
    "best_rf_model = grid_search.best_estimator_\n",
    "\n",
    "# Evaluates the best model on the test set\n",
    "best_rf_model.fit(X_train, y_train)\n",
    "y_pred_best = best_rf_model.predict(X_test)\n",
    "accuracy_best = accuracy_score(y_test, y_pred_best)\n",
    "print(f\"Test Set Accuracy (Best Model): {accuracy_best:.4f}\")\n"
   ]
  }
 ],
 "metadata": {
  "kernelspec": {
   "display_name": "hw",
   "language": "python",
   "name": "python3"
  },
  "language_info": {
   "codemirror_mode": {
    "name": "ipython",
    "version": 3
   },
   "file_extension": ".py",
   "mimetype": "text/x-python",
   "name": "python",
   "nbconvert_exporter": "python",
   "pygments_lexer": "ipython3",
   "version": "3.10.12"
  },
  "orig_nbformat": 4
 },
 "nbformat": 4,
 "nbformat_minor": 2
}
